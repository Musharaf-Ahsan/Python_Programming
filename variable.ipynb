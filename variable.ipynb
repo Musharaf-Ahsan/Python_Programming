{
 "cells": [
  {
   "cell_type": "markdown",
   "metadata": {},
   "source": [
    "## "
   ]
  },
  {
   "cell_type": "markdown",
   "metadata": {},
   "source": [
    "## **Class.4**\n",
    "## **Variable**\n",
    "\n",
    "In Python, a variable is a symbolic name or identifier that is used to store and represent\\\n",
    "data in your program. Variables are like containers that can hold various types of values,\\\n",
    "such as numbers, strings, lists, or other data structures. "
   ]
  },
  {
   "cell_type": "markdown",
   "metadata": {},
   "source": [
    "### **Rules to Assign a Variable**\n",
    "1. The variable should contain lettes, numbers or underscore..\n",
    "2. Do not start with numbers.\n",
    "3. Spaces are not allowed.\n",
    "4. Do not use keywords used in function like (break, mean ,media, test etc..)\n",
    "5. Short and discriptive\n",
    "6. case senstivity (lower case and upercase letter shoul be used)"
   ]
  },
  {
   "cell_type": "code",
   "execution_count": 1,
   "metadata": {},
   "outputs": [
    {
     "name": "stdout",
     "output_type": "stream",
     "text": [
      "10\n",
      "How are You?\n",
      "40\n",
      "50\n",
      "?\n"
     ]
    }
   ],
   "source": [
    "x=10 #Numeric or Integer Variable\n",
    "print(x)\n",
    "y=\"How are You?\" #string variable\n",
    "print(y)\n",
    "x=40 #Here the valuae of x is updating by 40.It works same for 'y'..Only happen in Py\n",
    "print(x)\n",
    "x=x+10 #Another way to update value of x....\n",
    "print(x)\n",
    "z='?'\n",
    "print(z)\n"
   ]
  },
  {
   "cell_type": "markdown",
   "metadata": {},
   "source": [
    "### **Other Methods**"
   ]
  },
  {
   "cell_type": "code",
   "execution_count": 5,
   "metadata": {},
   "outputs": [
    {
     "name": "stdout",
     "output_type": "stream",
     "text": [
      "2\n",
      "3\n",
      "4\n"
     ]
    }
   ],
   "source": [
    "a=2; b=3; c=4;\n",
    "print(a)\n",
    "print(b)\n",
    "print(c)"
   ]
  },
  {
   "cell_type": "code",
   "execution_count": 6,
   "metadata": {},
   "outputs": [
    {
     "name": "stdout",
     "output_type": "stream",
     "text": [
      "4\n",
      "5\n",
      "6\n"
     ]
    }
   ],
   "source": [
    "a,b,c = 4, 5, 6\n",
    "print(a)\n",
    "print(b)\n",
    "print(c)"
   ]
  },
  {
   "cell_type": "code",
   "execution_count": 7,
   "metadata": {},
   "outputs": [
    {
     "name": "stdout",
     "output_type": "stream",
     "text": [
      "6\n",
      "6\n",
      "6\n"
     ]
    }
   ],
   "source": [
    "a=b=c=6\n",
    "print(a)\n",
    "print(b)\n",
    "print(c)"
   ]
  }
 ],
 "metadata": {
  "kernelspec": {
   "display_name": "base",
   "language": "python",
   "name": "python3"
  },
  "language_info": {
   "codemirror_mode": {
    "name": "ipython",
    "version": 3
   },
   "file_extension": ".py",
   "mimetype": "text/x-python",
   "name": "python",
   "nbconvert_exporter": "python",
   "pygments_lexer": "ipython3",
   "version": "3.11.5"
  }
 },
 "nbformat": 4,
 "nbformat_minor": 2
}
