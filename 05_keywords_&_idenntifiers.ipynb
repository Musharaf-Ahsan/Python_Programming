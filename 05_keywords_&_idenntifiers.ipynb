{
 "cells": [
  {
   "cell_type": "markdown",
   "metadata": {},
   "source": [
    "## **Class.5**\n",
    "## **Keywords and Identifiers**\n",
    "In programming, a keyword is a word that is reserved by a program because the word has a special meaning.\\\n",
    "Keywords can be commands or parameters. Every programming language has a set of keywords that cannot\\\n",
    "be used as variable names"
   ]
  }
 ],
 "metadata": {
  "kernelspec": {
   "display_name": "base",
   "language": "python",
   "name": "python3"
  },
  "language_info": {
   "codemirror_mode": {
    "name": "ipython",
    "version": 3
   },
   "file_extension": ".py",
   "mimetype": "text/x-python",
   "name": "python",
   "nbconvert_exporter": "python",
   "pygments_lexer": "ipython3",
   "version": "3.11.5"
  }
 },
 "nbformat": 4,
 "nbformat_minor": 2
}
