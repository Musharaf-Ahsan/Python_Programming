{
 "cells": [
  {
   "cell_type": "markdown",
   "metadata": {},
   "source": [
    "## **Class.5**\n",
    "## **Keywords**\n",
    "In programming, a keyword is a word that is reserved by a program because the word has a special meaning.\\\n",
    "Keywords can be commands or parameters. Every programming language has a set of keywords that cannot\\\n",
    "be used as variable names"
   ]
  },
  {
   "cell_type": "code",
   "execution_count": 1,
   "metadata": {},
   "outputs": [
    {
     "name": "stdout",
     "output_type": "stream",
     "text": [
      "['False', 'None', 'True', 'and', 'as', 'assert', 'async', 'await', 'break', 'class', 'continue', 'def', 'del', 'elif', 'else', 'except', 'finally', 'for', 'from', 'global', 'if', 'import', 'in', 'is', 'lambda', 'nonlocal', 'not', 'or', 'pass', 'raise', 'return', 'try', 'while', 'with', 'yield']\n"
     ]
    }
   ],
   "source": [
    "#python has 33 keyword\n",
    "import keyword\n",
    "print(keyword.kwlist)"
   ]
  },
  {
   "cell_type": "markdown",
   "metadata": {},
   "source": [
    "## **Identifiers or Variables**\n",
    "A python identifier is name used to identify a variable, function, classs, module or other object.\n",
    "\n",
    "#### **Rules for Setting Identifiers**\n",
    "\n",
    "- Can only start with with an alphabet or underscore( _ )\n",
    "- Followed by 0 or more letter, _ and digits.\n",
    "- Keywords can not be used be use as Identifiers.\n",
    "- Do not start with numbers.\n",
    "- Spaces are not allowed.\n",
    "- Short and descriptive.\n",
    "- Case sensitive(lower case and uper case letters can be used)"
   ]
  },
  {
   "cell_type": "code",
   "execution_count": null,
   "metadata": {},
   "outputs": [],
   "source": [
    "\n"
   ]
  }
 ],
 "metadata": {
  "kernelspec": {
   "display_name": "base",
   "language": "python",
   "name": "python3"
  },
  "language_info": {
   "codemirror_mode": {
    "name": "ipython",
    "version": 3
   },
   "file_extension": ".py",
   "mimetype": "text/x-python",
   "name": "python",
   "nbconvert_exporter": "python",
   "pygments_lexer": "ipython3",
   "version": "3.12.0"
  }
 },
 "nbformat": 4,
 "nbformat_minor": 2
}
