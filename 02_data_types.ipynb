{
 "cells": [
  {
   "cell_type": "markdown",
   "metadata": {},
   "source": [
    "## **Class.2**\n",
    "## **Data Types**\n",
    "### **There are three categories of data types in python**\n",
    "#### **1. Basic Types**\n",
    "  - Integers\n",
    "  - Float\n",
    "  - Boolean \n",
    "  - Strings\n",
    "#### **2. Container Types**\n",
    "- Lists\n",
    "- Tuples\n",
    "- Sets\n",
    "- Dictionary\n",
    "#### **3. User Defined Data Types**\n",
    "- Class"
   ]
  },
  {
   "cell_type": "markdown",
   "metadata": {},
   "source": [
    "## **1. Basic Types**\n",
    "**Integers**"
   ]
  },
  {
   "cell_type": "code",
   "execution_count": 5,
   "metadata": {},
   "outputs": [
    {
     "name": "stdout",
     "output_type": "stream",
     "text": [
      "44\n",
      "1e+308\n",
      "inf\n"
     ]
    }
   ],
   "source": [
    "print(44)\n",
    "# 1 * 10^308 The largest Integers supported by python\n",
    "print(1e308) \n",
    "# Now it will show infinite value\n",
    "print(1e309)"
   ]
  },
  {
   "cell_type": "markdown",
   "metadata": {},
   "source": [
    "**Float**\n",
    "\n",
    "The values with point"
   ]
  },
  {
   "cell_type": "code",
   "execution_count": 6,
   "metadata": {},
   "outputs": [
    {
     "name": "stdout",
     "output_type": "stream",
     "text": [
      "3.8\n"
     ]
    }
   ],
   "source": [
    "print(3.8)"
   ]
  },
  {
   "cell_type": "markdown",
   "metadata": {},
   "source": [
    "**Boolean**\n",
    "\n",
    "Categorical values Yes, No or 0,1 "
   ]
  },
  {
   "cell_type": "code",
   "execution_count": 7,
   "metadata": {},
   "outputs": [
    {
     "name": "stdout",
     "output_type": "stream",
     "text": [
      "True\n",
      "False\n"
     ]
    }
   ],
   "source": [
    "print(True)\n",
    "print(False)"
   ]
  },
  {
   "cell_type": "markdown",
   "metadata": {},
   "source": [
    "**Strings**"
   ]
  },
  {
   "cell_type": "code",
   "execution_count": 18,
   "metadata": {},
   "outputs": [
    {
     "name": "stdout",
     "output_type": "stream",
     "text": [
      "Hey, I'm learning python for Data Science\n",
      "Hello World\n",
      "Hello World\n"
     ]
    }
   ],
   "source": [
    "print(\"Hey, I'm learning python for Data Science\")\n",
    "print('Hello World')\n",
    "print('''Hello World''')"
   ]
  },
  {
   "cell_type": "markdown",
   "metadata": {},
   "source": [
    "## **2. Container Types**"
   ]
  },
  {
   "cell_type": "markdown",
   "metadata": {},
   "source": [
    "**Lists**"
   ]
  },
  {
   "cell_type": "code",
   "execution_count": 19,
   "metadata": {},
   "outputs": [
    {
     "name": "stdout",
     "output_type": "stream",
     "text": [
      "[12, 213, 23, 33, 53]\n"
     ]
    }
   ],
   "source": [
    "print([12, 213, 23,33, 53])"
   ]
  },
  {
   "cell_type": "markdown",
   "metadata": {},
   "source": [
    "**Tuple**"
   ]
  },
  {
   "cell_type": "code",
   "execution_count": 20,
   "metadata": {},
   "outputs": [
    {
     "name": "stdout",
     "output_type": "stream",
     "text": [
      "(12, 24, 24, 41, 34)\n"
     ]
    }
   ],
   "source": [
    "print((12, 24, 24, 41, 34))"
   ]
  },
  {
   "cell_type": "markdown",
   "metadata": {},
   "source": [
    "**Sets**"
   ]
  },
  {
   "cell_type": "code",
   "execution_count": 21,
   "metadata": {},
   "outputs": [
    {
     "name": "stdout",
     "output_type": "stream",
     "text": [
      "{675, 53, 23, 42, 76}\n"
     ]
    }
   ],
   "source": [
    "print({23, 42, 23, 53, 675, 76})"
   ]
  },
  {
   "cell_type": "markdown",
   "metadata": {},
   "source": [
    "**Dictionary**"
   ]
  },
  {
   "cell_type": "code",
   "execution_count": 22,
   "metadata": {},
   "outputs": [
    {
     "name": "stdout",
     "output_type": "stream",
     "text": [
      "{'Name': 'Mushraf', 'Age': 22, 'City': 'Bahawalpur'}\n"
     ]
    }
   ],
   "source": [
    "print({\"Name\" : \"Mushraf\", \"Age\" : 22, \"City\" : \"Bahawalpur\"})"
   ]
  },
  {
   "cell_type": "markdown",
   "metadata": {},
   "source": [
    "## **3. Class**\n",
    "We will learn about class in OOP portion."
   ]
  },
  {
   "cell_type": "code",
   "execution_count": 12,
   "metadata": {},
   "outputs": [
    {
     "ename": "NameError",
     "evalue": "name 'y_variable' is not defined",
     "output_type": "error",
     "traceback": [
      "\u001b[1;31m---------------------------------------------------------------------------\u001b[0m",
      "\u001b[1;31mNameError\u001b[0m                                 Traceback (most recent call last)",
      "\u001b[1;32md:\\Python_for_data_science\\data_types.ipynb Cell 20\u001b[0m line \u001b[0;36m1\n\u001b[1;32m----> <a href='vscode-notebook-cell:/d%3A/Python_for_data_science/data_types.ipynb#X33sZmlsZQ%3D%3D?line=0'>1</a>\u001b[0m y_variable\n",
      "\u001b[1;31mNameError\u001b[0m: name 'y_variable' is not defined"
     ]
    }
   ],
   "source": [
    "y_variable"
   ]
  },
  {
   "cell_type": "code",
   "execution_count": 15,
   "metadata": {},
   "outputs": [
    {
     "name": "stdout",
     "output_type": "stream",
     "text": [
      "None\n"
     ]
    }
   ],
   "source": [
    "def get_and_print_value():\n",
    "    user_input = input(\"Enter a value: \")\n",
    "    if user_input:\n",
    "        print(user_input)\n",
    "    else:\n",
    "        print(\"None\")\n",
    "\n",
    "# Call the function\n",
    "get_and_print_value()\n"
   ]
  },
  {
   "cell_type": "code",
   "execution_count": 21,
   "metadata": {},
   "outputs": [
    {
     "name": "stdout",
     "output_type": "stream",
     "text": [
      "\n"
     ]
    }
   ],
   "source": [
    "xx = None\n",
    "xx = input(\"What is you name? \")\n",
    "print(xx)"
   ]
  },
  {
   "cell_type": "code",
   "execution_count": 36,
   "metadata": {},
   "outputs": [
    {
     "name": "stdout",
     "output_type": "stream",
     "text": [
      "<class 'str'>\n"
     ]
    }
   ],
   "source": [
    "def greet(name=None):\n",
    "    name = input(\"What is your name? \")\n",
    "    if name:\n",
    "        print(\"Hello,\", name)\n",
    "    else:\n",
    "        print(type(name))\n",
    "\n",
    "# Call the function without providing a name\n",
    "greet()\n"
   ]
  },
  {
   "cell_type": "code",
   "execution_count": 42,
   "metadata": {},
   "outputs": [],
   "source": [
    "def greet(name=None):\n",
    "    if name is None:\n",
    "        print(\"Hello, World!\")\n",
    "        print(f\"The data type of 'name' is: {type(name).__name__}\")\n",
    "    else:\n",
    "        print(f\"Hello, {name}!\")\n",
    "\n",
    "# Check if the user wants to provide a name\n",
    "user_input = input(\"Do you want to provide a name? (y/n): \")\n",
    "\n",
    "if user_input.lower() == 'y':\n",
    "    name_input = input(\"Enter a name: \")\n",
    "    greet(name_input)\n",
    "else:\n",
    "    greet()\n"
   ]
  }
 ],
 "metadata": {
  "kernelspec": {
   "display_name": "pandas_env",
   "language": "python",
   "name": "python3"
  },
  "language_info": {
   "codemirror_mode": {
    "name": "ipython",
    "version": 3
   },
   "file_extension": ".py",
   "mimetype": "text/x-python",
   "name": "python",
   "nbconvert_exporter": "python",
   "pygments_lexer": "ipython3",
   "version": "3.11.5"
  },
  "orig_nbformat": 4
 },
 "nbformat": 4,
 "nbformat_minor": 2
}
